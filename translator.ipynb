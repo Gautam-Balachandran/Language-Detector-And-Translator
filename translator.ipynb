{
 "cells": [
  {
   "cell_type": "code",
   "execution_count": null,
   "id": "169ea3ec-c043-46d0-8e4c-a3369df4b600",
   "metadata": {},
   "outputs": [],
   "source": [
    "!pip install deep-translator\n",
    "!pip install tabulate\n",
    "\n",
    "import pandas as pd\n",
    "import numpy as np\n",
    "from langdetect import detect\n",
    "from deep_translator import GoogleTranslator\n",
    "from tabulate import tabulate"
   ]
  },
  {
   "cell_type": "code",
   "execution_count": null,
   "id": "13405952-f750-458f-bb52-34200b91fd1a",
   "metadata": {},
   "outputs": [],
   "source": [
    "# Function to detect language\n",
    "def detect_language(text):\n",
    "    try:\n",
    "        return detect(text)\n",
    "    except Exception as e:\n",
    "        return f\"Error: {str(e)}\"\n",
    "\n",
    "# Function to translate text using Deep Translator\n",
    "def translate_text(text, dest_language='en'):\n",
    "    try:\n",
    "        translator = GoogleTranslator(target=dest_language)\n",
    "        return translator.translate(text)\n",
    "    except Exception as e:\n",
    "        return f\"Error: {str(e)}\""
   ]
  },
  {
   "cell_type": "code",
   "execution_count": null,
   "id": "4cf96843-ba65-4fe2-a00e-0bc9399e80ac",
   "metadata": {},
   "outputs": [],
   "source": [
    "# Sample Data\n",
    "texts = [\n",
    "    \"Hola mundo\",  # Spanish\n",
    "    \"Comment allez-vous\",  # French\n",
    "    \"Schön dich zu sehen\",  # German\n",
    "    \"Per favore, vieni a casa mia\",  # Italian\n",
    "    \"வணக்கம் மக்களே\", # Tamil\n",
    "    \"वयं भवतः विनयेन स्वागतं कुर्मः\", # Sanskrit\n",
    "    \"很高兴认识大家\",  # Chinese (Simplified)\n",
    "    \"Пожалуйста, сядьте\"  # Russian\n",
    "]\n",
    "\n",
    "# Creating a DataFrame\n",
    "data = pd.DataFrame({'Original Text': texts})\n",
    "\n",
    "# Detecting Language\n",
    "data['Detected Language'] = data['Original Text'].apply(detect_language)\n",
    "\n",
    "# Translating Text to English\n",
    "data['Translated Text'] = data['Original Text'].apply(lambda x: translate_text(x, 'en'))\n",
    "\n",
    "# Display the results in a tabular format\n",
    "print(\"\\nLanguage Detection and Translation Results:\\n\")\n",
    "print(tabulate(data, headers='keys', tablefmt='grid', showindex=False))"
   ]
  },
  {
   "cell_type": "code",
   "execution_count": null,
   "id": "7f9798c8-9a0d-4206-9d02-1e7310c7e73d",
   "metadata": {},
   "outputs": [],
   "source": []
  }
 ],
 "metadata": {
  "kernelspec": {
   "display_name": "Python 3 (ipykernel)",
   "language": "python",
   "name": "python3"
  },
  "language_info": {
   "codemirror_mode": {
    "name": "ipython",
    "version": 3
   },
   "file_extension": ".py",
   "mimetype": "text/x-python",
   "name": "python",
   "nbconvert_exporter": "python",
   "pygments_lexer": "ipython3",
   "version": "3.13.1"
  }
 },
 "nbformat": 4,
 "nbformat_minor": 5
}
